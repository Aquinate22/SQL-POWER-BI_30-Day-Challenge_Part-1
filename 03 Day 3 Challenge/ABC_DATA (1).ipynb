{
  "nbformat": 4,
  "nbformat_minor": 0,
  "metadata": {
    "colab": {
      "provenance": []
    },
    "kernelspec": {
      "name": "python3",
      "display_name": "Python 3"
    },
    "language_info": {
      "name": "python"
    }
  },
  "cells": [
    {
      "cell_type": "markdown",
      "source": [
        "# Day 1 CHALLENGE\n",
        "You own a business called ABC. To drive dependable decisions using data, you will develop an SQL database, call it ABC_DATA, which you will use to store all your customer info, customer orders, product info and your order information.\n",
        "\n",
        "In these series of challenges, in SQL you are going to do the following:\n",
        "\n",
        "1. Create a database and name it ABC_DATA\n",
        "2. Create 4 tables"
      ],
      "metadata": {
        "id": "sKwBPCSHnQcF"
      }
    },
    {
      "cell_type": "code",
      "execution_count": 1,
      "metadata": {
        "colab": {
          "base_uri": "https://localhost:8080/"
        },
        "id": "UKznoP1znFaU",
        "outputId": "3b7567d9-1ff6-4fd0-eb8c-0bc31d0e26b6"
      },
      "outputs": [
        {
          "output_type": "stream",
          "name": "stdout",
          "text": [
            "Collecting pymysql\n",
            "  Downloading PyMySQL-1.1.0-py3-none-any.whl (44 kB)\n",
            "\u001b[?25l     \u001b[90m━━━━━━━━━━━━━━━━━━━━━━━━━━━━━━━━━━━━━━━━\u001b[0m \u001b[32m0.0/44.8 kB\u001b[0m \u001b[31m?\u001b[0m eta \u001b[36m-:--:--\u001b[0m\r\u001b[2K     \u001b[90m━━━━━━━━━━━━━━━━━━━━━━━━━━━━━━━━━━━━━━━━\u001b[0m \u001b[32m44.8/44.8 kB\u001b[0m \u001b[31m1.3 MB/s\u001b[0m eta \u001b[36m0:00:00\u001b[0m\n",
            "\u001b[?25hInstalling collected packages: pymysql\n",
            "Successfully installed pymysql-1.1.0\n"
          ]
        }
      ],
      "source": [
        "!pip install pymysql"
      ]
    },
    {
      "cell_type": "code",
      "source": [
        "# Load the sql extension\n",
        "%load_ext sql"
      ],
      "metadata": {
        "id": "-wexdblVniHS"
      },
      "execution_count": 2,
      "outputs": []
    },
    {
      "cell_type": "code",
      "source": [
        "# Creating ABC_DATA database\n",
        "\n",
        "%%sql\n",
        "\n",
        "sqlite:///ABC_DATA.db"
      ],
      "metadata": {
        "id": "VR-aQDKUnsql"
      },
      "execution_count": 3,
      "outputs": []
    },
    {
      "cell_type": "code",
      "source": [
        "# Creating tables\n",
        "%%sql\n",
        "\n",
        "--Customers data\n",
        "CREATE TABLE IF NOT EXISTS customers(\n",
        "  customer_id INT PRIMARY KEY,\n",
        "  first_name VARCHAR(30),\n",
        "  last_name VARCHAR(30),\n",
        "  email VARCHAR(100)\n",
        ");\n",
        "\n",
        "--products table\n",
        "CREATE TABLE IF NOT EXISTS products(\n",
        "  product_id INT PRIMARY KEY,\n",
        "  product_name VARCHAR(40),\n",
        "  price FLOAT\n",
        ");\n",
        "\n",
        "--orders table\n",
        "CREATE TABLE IF NOT EXISTS orders(\n",
        "  order_id INT PRIMARY KEY,\n",
        "  customer_id INT,\n",
        "  order_date DATE,\n",
        "  FOREIGN KEY (customer_id) REFERENCES customers(customer_id)\n",
        "\n",
        ");\n",
        "\n",
        "--order items table\n",
        "CREATE TABLE IF NOT EXISTS order_items(\n",
        "  order_id INT,\n",
        "  Product_id INT,\n",
        "  quantity INT,\n",
        "  FOREIGN KEY (order_id) REFERENCES customers(order_id)\n",
        "  FOREIGN KEY (product_id) REFERENCES products(product_id)\n",
        "\n",
        ");"
      ],
      "metadata": {
        "colab": {
          "base_uri": "https://localhost:8080/"
        },
        "id": "XggPLETHoMuU",
        "outputId": "727ac67e-5046-4a5b-a251-b60400fd7637"
      },
      "execution_count": 4,
      "outputs": [
        {
          "output_type": "stream",
          "name": "stdout",
          "text": [
            " * sqlite:///ABC_DATA.db\n",
            "Done.\n",
            "Done.\n",
            "Done.\n",
            "Done.\n"
          ]
        },
        {
          "output_type": "execute_result",
          "data": {
            "text/plain": [
              "[]"
            ]
          },
          "metadata": {},
          "execution_count": 4
        }
      ]
    },
    {
      "cell_type": "markdown",
      "source": [
        "# Day 2 CHALLENGE\n",
        "Here you will insert data, into your database, readying it for quering in the subsequent day's challenges :"
      ],
      "metadata": {
        "id": "FWojQIbo4hWj"
      }
    },
    {
      "cell_type": "code",
      "source": [
        "%%sql\n",
        "INSERT INTO customers (customer_id, first_name, last_name, email)\n",
        "VALUES\n",
        "    (1, 'John', 'Doe', 'johndoe@email.com'),\n",
        "    (2, 'Jane', 'Smith', 'janesmith@email.com'),\n",
        "    (3, 'Bob', 'Johnson', 'bobjohnson@email.com'),\n",
        "    (4, 'Alice', 'Brown', 'alicebrown@email.com'),\n",
        "    (5, 'Charlie', 'Davis', 'charliedavis@email.com'),\n",
        "    (6, 'Eva', 'Fisher', 'evafisher@email.com'),\n",
        "    (7, 'George', 'Harris', 'georgeharris@email.com'),\n",
        "    (8, 'Ivy', 'Jones', 'ivyjones@email.com'),\n",
        "    (9, 'Kevin', 'Miller', 'kevinmiller@email.com'),\n",
        "    (10, 'Lily', 'Nelson', 'lilynelson@email.com'),\n",
        "    (11, 'Oliver', 'Patterson', 'oliverpatterson@email.com'),\n",
        "    (12, 'Quinn', 'Roberts', 'quinnroberts@email.com'),\n",
        "    (13, 'Sophia', 'Thomas', 'sophiathomas@email.com');\n"
      ],
      "metadata": {
        "colab": {
          "base_uri": "https://localhost:8080/"
        },
        "id": "4TQ4nWkVyaFO",
        "outputId": "67b6a03a-032f-44ea-95ca-4fe0af659a99"
      },
      "execution_count": 5,
      "outputs": [
        {
          "output_type": "stream",
          "name": "stdout",
          "text": [
            " * sqlite:///ABC_DATA.db\n",
            "13 rows affected.\n"
          ]
        },
        {
          "output_type": "execute_result",
          "data": {
            "text/plain": [
              "[]"
            ]
          },
          "metadata": {},
          "execution_count": 5
        }
      ]
    },
    {
      "cell_type": "code",
      "source": [
        "%%sql\n",
        " INSERT INTO products (product_id, product_name, price)\n",
        " VALUES\n",
        "    (1, 'Product A', 10.00),\n",
        "    (2, 'Product B', 15.00),\n",
        "    (3, 'Product C', 20.00),\n",
        "    (4, 'Product D', 25.00),\n",
        "    (5, 'Product E', 30.00),\n",
        "    (6, 'Product F', 35.00),\n",
        "    (7, 'Product G', 40.00),\n",
        "    (8, 'Product H', 45.00),\n",
        "    (9, 'Product I', 50.00),\n",
        "    (10, 'Product J', 55.00),\n",
        "    (11, 'Product K', 60.00),\n",
        "    (12, 'Product L', 65.00),\n",
        "    (13, 'Product M', 70.00);"
      ],
      "metadata": {
        "colab": {
          "base_uri": "https://localhost:8080/"
        },
        "id": "cr_LQySPx88w",
        "outputId": "e4630249-9c66-40f3-856f-d2fd93fa8714"
      },
      "execution_count": 6,
      "outputs": [
        {
          "output_type": "stream",
          "name": "stdout",
          "text": [
            " * sqlite:///ABC_DATA.db\n",
            "13 rows affected.\n"
          ]
        },
        {
          "output_type": "execute_result",
          "data": {
            "text/plain": [
              "[]"
            ]
          },
          "metadata": {},
          "execution_count": 6
        }
      ]
    },
    {
      "cell_type": "code",
      "source": [
        "%%sql\n",
        "INSERT INTO orders (order_id, customer_id, order_date)\n",
        "VALUES\n",
        "    (1, 1, '2023-05-01'),\n",
        "    (2, 2, '2023-05-02'),\n",
        "    (3, 3, '2023-05-03'),\n",
        "    (4, 1, '2023-05-04'),\n",
        "    (5, 2, '2023-05-05'),\n",
        "    (6, 3, '2023-05-06'),\n",
        "    (7, 4, '2023-05-07'),\n",
        "    (8, 5, '2023-05-08'),\n",
        "    (9, 6, '2023-05-09'),\n",
        "    (10, 7, '2023-05-10'),\n",
        "    (11, 8, '2023-05-11'),\n",
        "    (12, 9, '2023-05-12'),\n",
        "    (13, 10, '2023-05-13'),\n",
        "    (14, 11, '2023-05-14'),\n",
        "    (15, 12, '2023-05-15'),\n",
        "    (16, 13, '2023-05-16');\n"
      ],
      "metadata": {
        "colab": {
          "base_uri": "https://localhost:8080/"
        },
        "id": "93sb10HW6PC6",
        "outputId": "7018c20c-797c-47c7-f99d-633011a7ef07"
      },
      "execution_count": 7,
      "outputs": [
        {
          "output_type": "stream",
          "name": "stdout",
          "text": [
            " * sqlite:///ABC_DATA.db\n",
            "16 rows affected.\n"
          ]
        },
        {
          "output_type": "execute_result",
          "data": {
            "text/plain": [
              "[]"
            ]
          },
          "metadata": {},
          "execution_count": 7
        }
      ]
    },
    {
      "cell_type": "code",
      "source": [
        "%%sql\n",
        "INSERT INTO order_items (order_id, product_id, quantity)\n",
        "VALUES\n",
        "    (1, 1, 2),\n",
        "    (1, 2, 1),\n",
        "    (2, 2, 1),\n",
        "    (2, 3, 3),\n",
        "    (3, 1, 1),\n",
        "    (3, 3, 2),\n",
        "    (4, 2, 4),\n",
        "    (4, 3, 1),\n",
        "    (5, 1, 1),\n",
        "    (5, 3, 2),\n",
        "    (6, 2, 3),\n",
        "    (6, 1, 1),\n",
        "    (7, 4, 1),\n",
        "    (7, 5, 2),\n",
        "    (8, 6, 3),\n",
        "    (8, 7, 1),\n",
        "    (9, 8, 2),\n",
        "    (9, 9, 1),\n",
        "    (10, 10, 3),\n",
        "    (10, 11, 2),\n",
        "    (11, 12, 1),\n",
        "    (11, 13, 3),\n",
        "    (12, 4, 2),\n",
        "    (12, 5, 1),\n",
        "    (13, 6, 3),\n",
        "    (13, 7, 2),\n",
        "    (14, 8, 1),\n",
        "    (14, 9, 2),\n",
        "    (15, 10, 3),\n",
        "    (15, 11, 1),\n",
        "    (16, 12, 2),\n",
        "    (16, 13, 3);"
      ],
      "metadata": {
        "colab": {
          "base_uri": "https://localhost:8080/"
        },
        "id": "Co8Sqv3i7BJ1",
        "outputId": "e2e02611-a399-443f-ff45-b9ef634791d1"
      },
      "execution_count": 8,
      "outputs": [
        {
          "output_type": "stream",
          "name": "stdout",
          "text": [
            " * sqlite:///ABC_DATA.db\n",
            "32 rows affected.\n"
          ]
        },
        {
          "output_type": "execute_result",
          "data": {
            "text/plain": [
              "[]"
            ]
          },
          "metadata": {},
          "execution_count": 8
        }
      ]
    },
    {
      "cell_type": "markdown",
      "source": [
        "# Day 3 CHALLENGE\n",
        "\n",
        "Your task is to answer the following two questions:\n",
        "\n",
        "Which product has the highest price? Only return a single row.\n",
        "\n",
        "Which order_id had the highest number of items in terms of quantity"
      ],
      "metadata": {
        "id": "Bf1VrOqpDROy"
      }
    },
    {
      "cell_type": "code",
      "source": [
        "%%sql\n",
        "--product with the highest price\n",
        "SELECT *\n",
        "FROM products\n",
        "ORDER BY price DESC\n",
        "LIMIT 1;"
      ],
      "metadata": {
        "colab": {
          "base_uri": "https://localhost:8080/",
          "height": 96
        },
        "id": "qIi8fis1D0LT",
        "outputId": "27054143-bf2a-435b-f2f9-3efc70feb662"
      },
      "execution_count": 11,
      "outputs": [
        {
          "output_type": "stream",
          "name": "stdout",
          "text": [
            " * sqlite:///ABC_DATA.db\n",
            "Done.\n"
          ]
        },
        {
          "output_type": "execute_result",
          "data": {
            "text/plain": [
              "[(13, 'Product M', 70.0)]"
            ],
            "text/html": [
              "<table>\n",
              "    <thead>\n",
              "        <tr>\n",
              "            <th>product_id</th>\n",
              "            <th>product_name</th>\n",
              "            <th>price</th>\n",
              "        </tr>\n",
              "    </thead>\n",
              "    <tbody>\n",
              "        <tr>\n",
              "            <td>13</td>\n",
              "            <td>Product M</td>\n",
              "            <td>70.0</td>\n",
              "        </tr>\n",
              "    </tbody>\n",
              "</table>"
            ]
          },
          "metadata": {},
          "execution_count": 11
        }
      ]
    },
    {
      "cell_type": "code",
      "source": [
        "%%sql\n",
        "--order_id with the highest number of items in terms of quantity\n",
        "\n",
        "SELECT order_id\n",
        "FROM order_items\n",
        "ORDER BY quantity DESC\n",
        "LIMIT 1;"
      ],
      "metadata": {
        "colab": {
          "base_uri": "https://localhost:8080/",
          "height": 96
        },
        "id": "OwjAd9YWFFlC",
        "outputId": "86dc3be1-57be-4b6c-9794-a581434d6cad"
      },
      "execution_count": 13,
      "outputs": [
        {
          "output_type": "stream",
          "name": "stdout",
          "text": [
            " * sqlite:///ABC_DATA.db\n",
            "Done.\n"
          ]
        },
        {
          "output_type": "execute_result",
          "data": {
            "text/plain": [
              "[(4,)]"
            ],
            "text/html": [
              "<table>\n",
              "    <thead>\n",
              "        <tr>\n",
              "            <th>order_id</th>\n",
              "        </tr>\n",
              "    </thead>\n",
              "    <tbody>\n",
              "        <tr>\n",
              "            <td>4</td>\n",
              "        </tr>\n",
              "    </tbody>\n",
              "</table>"
            ]
          },
          "metadata": {},
          "execution_count": 13
        }
      ]
    },
    {
      "cell_type": "code",
      "source": [],
      "metadata": {
        "id": "4eoC6bgZEnZF"
      },
      "execution_count": null,
      "outputs": []
    }
  ]
}