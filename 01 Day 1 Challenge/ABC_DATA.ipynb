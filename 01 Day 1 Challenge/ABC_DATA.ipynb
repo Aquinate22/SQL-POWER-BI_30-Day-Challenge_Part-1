{
  "nbformat": 4,
  "nbformat_minor": 0,
  "metadata": {
    "colab": {
      "provenance": []
    },
    "kernelspec": {
      "name": "python3",
      "display_name": "Python 3"
    },
    "language_info": {
      "name": "python"
    }
  },
  "cells": [
    {
      "cell_type": "markdown",
      "source": [
        "# Day 1 CHALLENGE\n",
        "You own a business called ABC. To drive dependable decisions using data, you will develop an SQL database, call it ABC_DATA, which you will use to store all your customer info, customer orders, product info and your order information.\n",
        "\n",
        "In these series of challenges, in SQL you are going to do the following:\n",
        "\n",
        "1. Create a database and name it ABC_DATA\n",
        "2. Create 4 tables"
      ],
      "metadata": {
        "id": "sKwBPCSHnQcF"
      }
    },
    {
      "cell_type": "code",
      "execution_count": 1,
      "metadata": {
        "colab": {
          "base_uri": "https://localhost:8080/"
        },
        "id": "UKznoP1znFaU",
        "outputId": "eb5cc961-bbb4-455e-a5e1-c2472eab89c5"
      },
      "outputs": [
        {
          "output_type": "stream",
          "name": "stdout",
          "text": [
            "Collecting pymysql\n",
            "  Downloading PyMySQL-1.1.0-py3-none-any.whl (44 kB)\n",
            "\u001b[?25l     \u001b[90m━━━━━━━━━━━━━━━━━━━━━━━━━━━━━━━━━━━━━━━━\u001b[0m \u001b[32m0.0/44.8 kB\u001b[0m \u001b[31m?\u001b[0m eta \u001b[36m-:--:--\u001b[0m\r\u001b[2K     \u001b[90m━━━━━━━━━━━━━━━━━━━━━━━━━━━━━━━━━━━━━━━━\u001b[0m \u001b[32m44.8/44.8 kB\u001b[0m \u001b[31m1.4 MB/s\u001b[0m eta \u001b[36m0:00:00\u001b[0m\n",
            "\u001b[?25hInstalling collected packages: pymysql\n",
            "Successfully installed pymysql-1.1.0\n"
          ]
        }
      ],
      "source": [
        "!pip install pymysql"
      ]
    },
    {
      "cell_type": "code",
      "source": [
        "# Load the sql extension\n",
        "%load_ext sql"
      ],
      "metadata": {
        "id": "-wexdblVniHS"
      },
      "execution_count": 2,
      "outputs": []
    },
    {
      "cell_type": "code",
      "source": [
        "# Creating ABC_DATA database\n",
        "\n",
        "%%sql\n",
        "\n",
        "sqlite:///ABC_DATA.db"
      ],
      "metadata": {
        "id": "VR-aQDKUnsql"
      },
      "execution_count": 4,
      "outputs": []
    },
    {
      "cell_type": "code",
      "source": [
        "# Creating tables\n",
        "%%sql\n",
        "\n",
        "--Customers data\n",
        "CREATE TABLE IF NOT EXISTS customers(\n",
        "  customer_id INT PRIMARY KEY,\n",
        "  first_name VARCHAR(30),\n",
        "  last_name VARCHAR(30),\n",
        "  email VARCHAR(100)\n",
        ");\n",
        "\n",
        "--products table\n",
        "CREATE TABLE IF NOT EXISTS products(\n",
        "  products_id INT PRIMARY KEY,\n",
        "  production_name VARCHAR(40),\n",
        "  price FLOAT\n",
        ");\n",
        "\n",
        "--orders table\n",
        "CREATE TABLE IF NOT EXISTS orders(\n",
        "  order_id INT PRIMARY KEY,\n",
        "  customer_id INT,\n",
        "  order_date DATE,\n",
        "  FOREIGN KEY (customer_id) REFERENCES customers(customer_id)\n",
        "\n",
        ");\n",
        "\n",
        "--order items table\n",
        "CREATE TABLE IF NOT EXISTS order_items(\n",
        "  order_id INT,\n",
        "  customer_id INT,\n",
        "  quantity INT,\n",
        "  FOREIGN KEY (order_id) REFERENCES customers(order_id)\n",
        "  FOREIGN KEY (customer_id) REFERENCES customers(customer_id)\n",
        "\n",
        ");"
      ],
      "metadata": {
        "colab": {
          "base_uri": "https://localhost:8080/"
        },
        "id": "XggPLETHoMuU",
        "outputId": "4f85b112-5159-4554-a66a-586b2dc790ac"
      },
      "execution_count": 7,
      "outputs": [
        {
          "output_type": "stream",
          "name": "stdout",
          "text": [
            "   sqlite:///\n",
            " * sqlite:///ABC_DATA.db\n",
            "Done.\n",
            "Done.\n",
            "Done.\n",
            "Done.\n"
          ]
        },
        {
          "output_type": "execute_result",
          "data": {
            "text/plain": [
              "[]"
            ]
          },
          "metadata": {},
          "execution_count": 7
        }
      ]
    },
    {
      "cell_type": "code",
      "source": [],
      "metadata": {
        "id": "4TQ4nWkVyaFO"
      },
      "execution_count": null,
      "outputs": []
    },
    {
      "cell_type": "code",
      "source": [],
      "metadata": {
        "id": "cr_LQySPx88w"
      },
      "execution_count": null,
      "outputs": []
    }
  ]
}