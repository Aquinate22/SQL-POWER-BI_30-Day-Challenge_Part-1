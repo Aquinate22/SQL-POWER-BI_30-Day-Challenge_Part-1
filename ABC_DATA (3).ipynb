{
  "nbformat": 4,
  "nbformat_minor": 0,
  "metadata": {
    "colab": {
      "provenance": []
    },
    "kernelspec": {
      "name": "python3",
      "display_name": "Python 3"
    },
    "language_info": {
      "name": "python"
    }
  },
  "cells": [
    {
      "cell_type": "markdown",
      "source": [
        "# Day 1 CHALLENGE\n",
        "You own a business called ABC. To drive dependable decisions using data, you will develop an SQL database, call it ABC_DATA, which you will use to store all your customer info, customer orders, product info and your order information.\n",
        "\n",
        "In these series of challenges, in SQL you are going to do the following:\n",
        "\n",
        "1. Create a database and name it ABC_DATA\n",
        "2. Create 4 tables"
      ],
      "metadata": {
        "id": "sKwBPCSHnQcF"
      }
    },
    {
      "cell_type": "code",
      "execution_count": 2,
      "metadata": {
        "colab": {
          "base_uri": "https://localhost:8080/"
        },
        "id": "UKznoP1znFaU",
        "outputId": "0b8e5d5c-80ad-4c8e-877d-f32d88eea7af"
      },
      "outputs": [
        {
          "output_type": "stream",
          "name": "stdout",
          "text": [
            "Collecting pymysql\n",
            "  Downloading PyMySQL-1.1.0-py3-none-any.whl (44 kB)\n",
            "\u001b[2K     \u001b[90m━━━━━━━━━━━━━━━━━━━━━━━━━━━━━━━━━━━━━━━━\u001b[0m \u001b[32m44.8/44.8 kB\u001b[0m \u001b[31m1.2 MB/s\u001b[0m eta \u001b[36m0:00:00\u001b[0m\n",
            "\u001b[?25hInstalling collected packages: pymysql\n",
            "Successfully installed pymysql-1.1.0\n"
          ]
        }
      ],
      "source": [
        "!pip install pymysql"
      ]
    },
    {
      "cell_type": "code",
      "source": [
        "# Load the sql extension\n",
        "%load_ext sql"
      ],
      "metadata": {
        "id": "-wexdblVniHS"
      },
      "execution_count": 3,
      "outputs": []
    },
    {
      "cell_type": "code",
      "source": [
        "# Creating ABC_DATA database\n",
        "\n",
        "%%sql\n",
        "\n",
        "sqlite:///ABC_DATA.db"
      ],
      "metadata": {
        "id": "VR-aQDKUnsql"
      },
      "execution_count": 4,
      "outputs": []
    },
    {
      "cell_type": "code",
      "source": [
        "# Creating tables\n",
        "%%sql\n",
        "\n",
        "--Customers data\n",
        "\n",
        "CREATE TABLE IF NOT EXISTS customers(\n",
        "  customer_id INT PRIMARY KEY,\n",
        "  first_name VARCHAR(30),\n",
        "  last_name VARCHAR(30),\n",
        "  email VARCHAR(100)\n",
        ");\n",
        "\n",
        "--products table\n",
        "CREATE TABLE IF NOT EXISTS products(\n",
        "  product_id INT PRIMARY KEY,\n",
        "  product_name VARCHAR(40),\n",
        "  price FLOAT\n",
        ");\n",
        "\n",
        "--orders table\n",
        "CREATE TABLE IF NOT EXISTS orders(\n",
        "  order_id INT PRIMARY KEY,\n",
        "  customer_id INT,\n",
        "  order_date DATE,\n",
        "  FOREIGN KEY (customer_id) REFERENCES customers(customer_id)\n",
        "\n",
        ");\n",
        "\n",
        "--order items table\n",
        "CREATE TABLE IF NOT EXISTS order_items(\n",
        "  order_id INT,\n",
        "  Product_id INT,\n",
        "  quantity INT,\n",
        "  FOREIGN KEY (order_id) REFERENCES customers(order_id)\n",
        "  FOREIGN KEY (product_id) REFERENCES products(product_id)\n",
        "\n",
        ");"
      ],
      "metadata": {
        "colab": {
          "base_uri": "https://localhost:8080/"
        },
        "id": "XggPLETHoMuU",
        "outputId": "37e504aa-8a9b-4bdb-d98a-5d34d0d3b35e"
      },
      "execution_count": 5,
      "outputs": [
        {
          "output_type": "stream",
          "name": "stdout",
          "text": [
            " * sqlite:///ABC_DATA.db\n",
            "Done.\n",
            "Done.\n",
            "Done.\n",
            "Done.\n"
          ]
        },
        {
          "output_type": "execute_result",
          "data": {
            "text/plain": [
              "[]"
            ]
          },
          "metadata": {},
          "execution_count": 5
        }
      ]
    },
    {
      "cell_type": "markdown",
      "source": [
        "# Day 2 CHALLENGE\n",
        "Here you will insert data, into your database, readying it for quering in the subsequent day's challenges :"
      ],
      "metadata": {
        "id": "FWojQIbo4hWj"
      }
    },
    {
      "cell_type": "code",
      "source": [
        "%%sql\n",
        "\n",
        "INSERT INTO customers (customer_id, first_name, last_name, email)\n",
        "VALUES\n",
        "    (1, 'John', 'Doe', 'johndoe@email.com'),\n",
        "    (2, 'Jane', 'Smith', 'janesmith@email.com'),\n",
        "    (3, 'Bob', 'Johnson', 'bobjohnson@email.com'),\n",
        "    (4, 'Alice', 'Brown', 'alicebrown@email.com'),\n",
        "    (5, 'Charlie', 'Davis', 'charliedavis@email.com'),\n",
        "    (6, 'Eva', 'Fisher', 'evafisher@email.com'),\n",
        "    (7, 'George', 'Harris', 'georgeharris@email.com'),\n",
        "    (8, 'Ivy', 'Jones', 'ivyjones@email.com'),\n",
        "    (9, 'Kevin', 'Miller', 'kevinmiller@email.com'),\n",
        "    (10, 'Lily', 'Nelson', 'lilynelson@email.com'),\n",
        "    (11, 'Oliver', 'Patterson', 'oliverpatterson@email.com'),\n",
        "    (12, 'Quinn', 'Roberts', 'quinnroberts@email.com'),\n",
        "    (13, 'Sophia', 'Thomas', 'sophiathomas@email.com');\n"
      ],
      "metadata": {
        "colab": {
          "base_uri": "https://localhost:8080/"
        },
        "id": "4TQ4nWkVyaFO",
        "outputId": "618153e2-c5ea-4ea1-b6eb-eca3076608eb"
      },
      "execution_count": 6,
      "outputs": [
        {
          "output_type": "stream",
          "name": "stdout",
          "text": [
            " * sqlite:///ABC_DATA.db\n",
            "13 rows affected.\n"
          ]
        },
        {
          "output_type": "execute_result",
          "data": {
            "text/plain": [
              "[]"
            ]
          },
          "metadata": {},
          "execution_count": 6
        }
      ]
    },
    {
      "cell_type": "code",
      "source": [
        "%%sql\n",
        "\n",
        " INSERT INTO products (product_id, product_name, price)\n",
        " VALUES\n",
        "    (1, 'Product A', 10.00),\n",
        "    (2, 'Product B', 15.00),\n",
        "    (3, 'Product C', 20.00),\n",
        "    (4, 'Product D', 25.00),\n",
        "    (5, 'Product E', 30.00),\n",
        "    (6, 'Product F', 35.00),\n",
        "    (7, 'Product G', 40.00),\n",
        "    (8, 'Product H', 45.00),\n",
        "    (9, 'Product I', 50.00),\n",
        "    (10, 'Product J', 55.00),\n",
        "    (11, 'Product K', 60.00),\n",
        "    (12, 'Product L', 65.00),\n",
        "    (13, 'Product M', 70.00);"
      ],
      "metadata": {
        "colab": {
          "base_uri": "https://localhost:8080/"
        },
        "id": "cr_LQySPx88w",
        "outputId": "4c3cdd22-8839-49be-cf57-d06d891b4c21"
      },
      "execution_count": 7,
      "outputs": [
        {
          "output_type": "stream",
          "name": "stdout",
          "text": [
            " * sqlite:///ABC_DATA.db\n",
            "13 rows affected.\n"
          ]
        },
        {
          "output_type": "execute_result",
          "data": {
            "text/plain": [
              "[]"
            ]
          },
          "metadata": {},
          "execution_count": 7
        }
      ]
    },
    {
      "cell_type": "code",
      "source": [
        "%%sql\n",
        "INSERT INTO orders (order_id, customer_id, order_date)\n",
        "VALUES\n",
        "    (1, 1, '2023-05-01'),\n",
        "    (2, 2, '2023-05-02'),\n",
        "    (3, 3, '2023-05-03'),\n",
        "    (4, 1, '2023-05-04'),\n",
        "    (5, 2, '2023-05-05'),\n",
        "    (6, 3, '2023-05-06'),\n",
        "    (7, 4, '2023-05-07'),\n",
        "    (8, 5, '2023-05-08'),\n",
        "    (9, 6, '2023-05-09'),\n",
        "    (10, 7, '2023-05-10'),\n",
        "    (11, 8, '2023-05-11'),\n",
        "    (12, 9, '2023-05-12'),\n",
        "    (13, 10, '2023-05-13'),\n",
        "    (14, 11, '2023-05-14'),\n",
        "    (15, 12, '2023-05-15'),\n",
        "    (16, 13, '2023-05-16');\n"
      ],
      "metadata": {
        "colab": {
          "base_uri": "https://localhost:8080/"
        },
        "id": "93sb10HW6PC6",
        "outputId": "589f3b11-6e85-4896-8bfc-f9bc24eb8b4c"
      },
      "execution_count": 8,
      "outputs": [
        {
          "output_type": "stream",
          "name": "stdout",
          "text": [
            " * sqlite:///ABC_DATA.db\n",
            "16 rows affected.\n"
          ]
        },
        {
          "output_type": "execute_result",
          "data": {
            "text/plain": [
              "[]"
            ]
          },
          "metadata": {},
          "execution_count": 8
        }
      ]
    },
    {
      "cell_type": "code",
      "source": [
        "%%sql\n",
        "\n",
        "INSERT INTO order_items (order_id, product_id, quantity)\n",
        "VALUES\n",
        "    (1, 1, 2),\n",
        "    (1, 2, 1),\n",
        "    (2, 2, 1),\n",
        "    (2, 3, 3),\n",
        "    (3, 1, 1),\n",
        "    (3, 3, 2),\n",
        "    (4, 2, 4),\n",
        "    (4, 3, 1),\n",
        "    (5, 1, 1),\n",
        "    (5, 3, 2),\n",
        "    (6, 2, 3),\n",
        "    (6, 1, 1),\n",
        "    (7, 4, 1),\n",
        "    (7, 5, 2),\n",
        "    (8, 6, 3),\n",
        "    (8, 7, 1),\n",
        "    (9, 8, 2),\n",
        "    (9, 9, 1),\n",
        "    (10, 10, 3),\n",
        "    (10, 11, 2),\n",
        "    (11, 12, 1),\n",
        "    (11, 13, 3),\n",
        "    (12, 4, 2),\n",
        "    (12, 5, 1),\n",
        "    (13, 6, 3),\n",
        "    (13, 7, 2),\n",
        "    (14, 8, 1),\n",
        "    (14, 9, 2),\n",
        "    (15, 10, 3),\n",
        "    (15, 11, 1),\n",
        "    (16, 12, 2),\n",
        "    (16, 13, 3);"
      ],
      "metadata": {
        "colab": {
          "base_uri": "https://localhost:8080/"
        },
        "id": "Co8Sqv3i7BJ1",
        "outputId": "4aaf8dd2-5675-4142-a497-c501a40e926c"
      },
      "execution_count": 9,
      "outputs": [
        {
          "output_type": "stream",
          "name": "stdout",
          "text": [
            " * sqlite:///ABC_DATA.db\n",
            "32 rows affected.\n"
          ]
        },
        {
          "output_type": "execute_result",
          "data": {
            "text/plain": [
              "[]"
            ]
          },
          "metadata": {},
          "execution_count": 9
        }
      ]
    },
    {
      "cell_type": "markdown",
      "source": [
        "# Day 3 CHALLENGE\n",
        "\n",
        "Your task is to answer the following two questions:\n",
        "\n",
        "Which product has the highest price? Only return a single row.\n",
        "\n",
        "Which order_id had the highest number of items in terms of quantity"
      ],
      "metadata": {
        "id": "Bf1VrOqpDROy"
      }
    },
    {
      "cell_type": "code",
      "source": [
        "%%sql\n",
        "\n",
        "--product with the highest price\n",
        "SELECT *\n",
        "FROM products\n",
        "ORDER BY price DESC\n",
        "LIMIT 1;"
      ],
      "metadata": {
        "colab": {
          "base_uri": "https://localhost:8080/",
          "height": 96
        },
        "id": "qIi8fis1D0LT",
        "outputId": "df5b20b4-9c64-49cc-cc0c-f177e7665530"
      },
      "execution_count": 10,
      "outputs": [
        {
          "output_type": "stream",
          "name": "stdout",
          "text": [
            " * sqlite:///ABC_DATA.db\n",
            "Done.\n"
          ]
        },
        {
          "output_type": "execute_result",
          "data": {
            "text/plain": [
              "[(13, 'Product M', 70.0)]"
            ],
            "text/html": [
              "<table>\n",
              "    <thead>\n",
              "        <tr>\n",
              "            <th>product_id</th>\n",
              "            <th>product_name</th>\n",
              "            <th>price</th>\n",
              "        </tr>\n",
              "    </thead>\n",
              "    <tbody>\n",
              "        <tr>\n",
              "            <td>13</td>\n",
              "            <td>Product M</td>\n",
              "            <td>70.0</td>\n",
              "        </tr>\n",
              "    </tbody>\n",
              "</table>"
            ]
          },
          "metadata": {},
          "execution_count": 10
        }
      ]
    },
    {
      "cell_type": "code",
      "source": [
        "%%sql\n",
        "\n",
        "--order_id with the highest number of items in terms of quantity\n",
        "\n",
        "SELECT order_id\n",
        "FROM order_items\n",
        "ORDER BY quantity DESC\n",
        "LIMIT 1;"
      ],
      "metadata": {
        "colab": {
          "base_uri": "https://localhost:8080/",
          "height": 96
        },
        "id": "OwjAd9YWFFlC",
        "outputId": "8aad9de7-a926-46fb-94ef-40fb921b0efb"
      },
      "execution_count": 11,
      "outputs": [
        {
          "output_type": "stream",
          "name": "stdout",
          "text": [
            " * sqlite:///ABC_DATA.db\n",
            "Done.\n"
          ]
        },
        {
          "output_type": "execute_result",
          "data": {
            "text/plain": [
              "[(4,)]"
            ],
            "text/html": [
              "<table>\n",
              "    <thead>\n",
              "        <tr>\n",
              "            <th>order_id</th>\n",
              "        </tr>\n",
              "    </thead>\n",
              "    <tbody>\n",
              "        <tr>\n",
              "            <td>4</td>\n",
              "        </tr>\n",
              "    </tbody>\n",
              "</table>"
            ]
          },
          "metadata": {},
          "execution_count": 11
        }
      ]
    },
    {
      "cell_type": "markdown",
      "source": [
        "# Day 4 Challenge\n",
        "\n",
        "Which customer has made the most orders?\n",
        "Hint, your query will have the following structure:\n",
        "\n",
        "    SELECT order_counts as (\n",
        "    SELECT customer_id, count(order_id) AS order_count\n",
        "    FROM xxxx\n",
        "    GROUP BY xxxx),\n",
        "    max_order_count AS (\n",
        "    SELECT max(order_count) as max_count\n",
        "    FROM xxxx )\n",
        "    SELECT c.first_name, c.last_name\n",
        "    FROM xxxx c\n",
        "    JOIN order_counts oc ON c.customer_id = oc.customer_id\n",
        "    JOIN max_order_count moc ON oc.order_count = moc.max_count;\n",
        "What’s the total revenue per product?\n",
        "Hint: Your Query WIll have the following structure :\n",
        "\n",
        "    SELECT p.product_name,\n",
        "    p.price * sum(oi.quantity) AS total_revenue\n",
        "    FROM xxxx p\n",
        "    JOIN order_items oi ON oi.product_id = p.product_id\n",
        "    GROUP BY xxxx p.xxx, p.xxx,\n",
        "    ORDER BY 2 desc;"
      ],
      "metadata": {
        "id": "xq42fBW3GyT3"
      }
    },
    {
      "cell_type": "code",
      "source": [
        "%%sql\n",
        "\n",
        "SELECT *\n",
        "FROM orders;"
      ],
      "metadata": {
        "colab": {
          "base_uri": "https://localhost:8080/",
          "height": 417
        },
        "id": "QxuLP70sKCNM",
        "outputId": "5d70b032-9872-4072-805d-9fe58a002562"
      },
      "execution_count": 12,
      "outputs": [
        {
          "output_type": "stream",
          "name": "stdout",
          "text": [
            " * sqlite:///ABC_DATA.db\n",
            "Done.\n"
          ]
        },
        {
          "output_type": "execute_result",
          "data": {
            "text/plain": [
              "[(1, 1, '2023-05-01'),\n",
              " (2, 2, '2023-05-02'),\n",
              " (3, 3, '2023-05-03'),\n",
              " (4, 1, '2023-05-04'),\n",
              " (5, 2, '2023-05-05'),\n",
              " (6, 3, '2023-05-06'),\n",
              " (7, 4, '2023-05-07'),\n",
              " (8, 5, '2023-05-08'),\n",
              " (9, 6, '2023-05-09'),\n",
              " (10, 7, '2023-05-10'),\n",
              " (11, 8, '2023-05-11'),\n",
              " (12, 9, '2023-05-12'),\n",
              " (13, 10, '2023-05-13'),\n",
              " (14, 11, '2023-05-14'),\n",
              " (15, 12, '2023-05-15'),\n",
              " (16, 13, '2023-05-16')]"
            ],
            "text/html": [
              "<table>\n",
              "    <thead>\n",
              "        <tr>\n",
              "            <th>order_id</th>\n",
              "            <th>customer_id</th>\n",
              "            <th>order_date</th>\n",
              "        </tr>\n",
              "    </thead>\n",
              "    <tbody>\n",
              "        <tr>\n",
              "            <td>1</td>\n",
              "            <td>1</td>\n",
              "            <td>2023-05-01</td>\n",
              "        </tr>\n",
              "        <tr>\n",
              "            <td>2</td>\n",
              "            <td>2</td>\n",
              "            <td>2023-05-02</td>\n",
              "        </tr>\n",
              "        <tr>\n",
              "            <td>3</td>\n",
              "            <td>3</td>\n",
              "            <td>2023-05-03</td>\n",
              "        </tr>\n",
              "        <tr>\n",
              "            <td>4</td>\n",
              "            <td>1</td>\n",
              "            <td>2023-05-04</td>\n",
              "        </tr>\n",
              "        <tr>\n",
              "            <td>5</td>\n",
              "            <td>2</td>\n",
              "            <td>2023-05-05</td>\n",
              "        </tr>\n",
              "        <tr>\n",
              "            <td>6</td>\n",
              "            <td>3</td>\n",
              "            <td>2023-05-06</td>\n",
              "        </tr>\n",
              "        <tr>\n",
              "            <td>7</td>\n",
              "            <td>4</td>\n",
              "            <td>2023-05-07</td>\n",
              "        </tr>\n",
              "        <tr>\n",
              "            <td>8</td>\n",
              "            <td>5</td>\n",
              "            <td>2023-05-08</td>\n",
              "        </tr>\n",
              "        <tr>\n",
              "            <td>9</td>\n",
              "            <td>6</td>\n",
              "            <td>2023-05-09</td>\n",
              "        </tr>\n",
              "        <tr>\n",
              "            <td>10</td>\n",
              "            <td>7</td>\n",
              "            <td>2023-05-10</td>\n",
              "        </tr>\n",
              "        <tr>\n",
              "            <td>11</td>\n",
              "            <td>8</td>\n",
              "            <td>2023-05-11</td>\n",
              "        </tr>\n",
              "        <tr>\n",
              "            <td>12</td>\n",
              "            <td>9</td>\n",
              "            <td>2023-05-12</td>\n",
              "        </tr>\n",
              "        <tr>\n",
              "            <td>13</td>\n",
              "            <td>10</td>\n",
              "            <td>2023-05-13</td>\n",
              "        </tr>\n",
              "        <tr>\n",
              "            <td>14</td>\n",
              "            <td>11</td>\n",
              "            <td>2023-05-14</td>\n",
              "        </tr>\n",
              "        <tr>\n",
              "            <td>15</td>\n",
              "            <td>12</td>\n",
              "            <td>2023-05-15</td>\n",
              "        </tr>\n",
              "        <tr>\n",
              "            <td>16</td>\n",
              "            <td>13</td>\n",
              "            <td>2023-05-16</td>\n",
              "        </tr>\n",
              "    </tbody>\n",
              "</table>"
            ]
          },
          "metadata": {},
          "execution_count": 12
        }
      ]
    },
    {
      "cell_type": "code",
      "source": [
        "%%sql\n",
        "\n",
        "SELECT *\n",
        "FROM customers;"
      ],
      "metadata": {
        "colab": {
          "base_uri": "https://localhost:8080/",
          "height": 353
        },
        "id": "UwWbTu66KMXm",
        "outputId": "b5d47b10-2d4c-47cd-eb4d-87fdf7b11f41"
      },
      "execution_count": 13,
      "outputs": [
        {
          "output_type": "stream",
          "name": "stdout",
          "text": [
            " * sqlite:///ABC_DATA.db\n",
            "Done.\n"
          ]
        },
        {
          "output_type": "execute_result",
          "data": {
            "text/plain": [
              "[(1, 'John', 'Doe', 'johndoe@email.com'),\n",
              " (2, 'Jane', 'Smith', 'janesmith@email.com'),\n",
              " (3, 'Bob', 'Johnson', 'bobjohnson@email.com'),\n",
              " (4, 'Alice', 'Brown', 'alicebrown@email.com'),\n",
              " (5, 'Charlie', 'Davis', 'charliedavis@email.com'),\n",
              " (6, 'Eva', 'Fisher', 'evafisher@email.com'),\n",
              " (7, 'George', 'Harris', 'georgeharris@email.com'),\n",
              " (8, 'Ivy', 'Jones', 'ivyjones@email.com'),\n",
              " (9, 'Kevin', 'Miller', 'kevinmiller@email.com'),\n",
              " (10, 'Lily', 'Nelson', 'lilynelson@email.com'),\n",
              " (11, 'Oliver', 'Patterson', 'oliverpatterson@email.com'),\n",
              " (12, 'Quinn', 'Roberts', 'quinnroberts@email.com'),\n",
              " (13, 'Sophia', 'Thomas', 'sophiathomas@email.com')]"
            ],
            "text/html": [
              "<table>\n",
              "    <thead>\n",
              "        <tr>\n",
              "            <th>customer_id</th>\n",
              "            <th>first_name</th>\n",
              "            <th>last_name</th>\n",
              "            <th>email</th>\n",
              "        </tr>\n",
              "    </thead>\n",
              "    <tbody>\n",
              "        <tr>\n",
              "            <td>1</td>\n",
              "            <td>John</td>\n",
              "            <td>Doe</td>\n",
              "            <td>johndoe@email.com</td>\n",
              "        </tr>\n",
              "        <tr>\n",
              "            <td>2</td>\n",
              "            <td>Jane</td>\n",
              "            <td>Smith</td>\n",
              "            <td>janesmith@email.com</td>\n",
              "        </tr>\n",
              "        <tr>\n",
              "            <td>3</td>\n",
              "            <td>Bob</td>\n",
              "            <td>Johnson</td>\n",
              "            <td>bobjohnson@email.com</td>\n",
              "        </tr>\n",
              "        <tr>\n",
              "            <td>4</td>\n",
              "            <td>Alice</td>\n",
              "            <td>Brown</td>\n",
              "            <td>alicebrown@email.com</td>\n",
              "        </tr>\n",
              "        <tr>\n",
              "            <td>5</td>\n",
              "            <td>Charlie</td>\n",
              "            <td>Davis</td>\n",
              "            <td>charliedavis@email.com</td>\n",
              "        </tr>\n",
              "        <tr>\n",
              "            <td>6</td>\n",
              "            <td>Eva</td>\n",
              "            <td>Fisher</td>\n",
              "            <td>evafisher@email.com</td>\n",
              "        </tr>\n",
              "        <tr>\n",
              "            <td>7</td>\n",
              "            <td>George</td>\n",
              "            <td>Harris</td>\n",
              "            <td>georgeharris@email.com</td>\n",
              "        </tr>\n",
              "        <tr>\n",
              "            <td>8</td>\n",
              "            <td>Ivy</td>\n",
              "            <td>Jones</td>\n",
              "            <td>ivyjones@email.com</td>\n",
              "        </tr>\n",
              "        <tr>\n",
              "            <td>9</td>\n",
              "            <td>Kevin</td>\n",
              "            <td>Miller</td>\n",
              "            <td>kevinmiller@email.com</td>\n",
              "        </tr>\n",
              "        <tr>\n",
              "            <td>10</td>\n",
              "            <td>Lily</td>\n",
              "            <td>Nelson</td>\n",
              "            <td>lilynelson@email.com</td>\n",
              "        </tr>\n",
              "        <tr>\n",
              "            <td>11</td>\n",
              "            <td>Oliver</td>\n",
              "            <td>Patterson</td>\n",
              "            <td>oliverpatterson@email.com</td>\n",
              "        </tr>\n",
              "        <tr>\n",
              "            <td>12</td>\n",
              "            <td>Quinn</td>\n",
              "            <td>Roberts</td>\n",
              "            <td>quinnroberts@email.com</td>\n",
              "        </tr>\n",
              "        <tr>\n",
              "            <td>13</td>\n",
              "            <td>Sophia</td>\n",
              "            <td>Thomas</td>\n",
              "            <td>sophiathomas@email.com</td>\n",
              "        </tr>\n",
              "    </tbody>\n",
              "</table>"
            ]
          },
          "metadata": {},
          "execution_count": 13
        }
      ]
    },
    {
      "cell_type": "code",
      "source": [
        "%%sql\n",
        "\n",
        "SELECT customer_id, COUNT(order_id) AS order_count\n",
        "FROM orders\n",
        "GROUP BY customer_id"
      ],
      "metadata": {
        "colab": {
          "base_uri": "https://localhost:8080/",
          "height": 353
        },
        "id": "rcCuoU4IePJl",
        "outputId": "ba4a04c1-0a7d-470d-d90e-3b99ce3e7e9c"
      },
      "execution_count": 14,
      "outputs": [
        {
          "output_type": "stream",
          "name": "stdout",
          "text": [
            " * sqlite:///ABC_DATA.db\n",
            "Done.\n"
          ]
        },
        {
          "output_type": "execute_result",
          "data": {
            "text/plain": [
              "[(1, 2),\n",
              " (2, 2),\n",
              " (3, 2),\n",
              " (4, 1),\n",
              " (5, 1),\n",
              " (6, 1),\n",
              " (7, 1),\n",
              " (8, 1),\n",
              " (9, 1),\n",
              " (10, 1),\n",
              " (11, 1),\n",
              " (12, 1),\n",
              " (13, 1)]"
            ],
            "text/html": [
              "<table>\n",
              "    <thead>\n",
              "        <tr>\n",
              "            <th>customer_id</th>\n",
              "            <th>order_count</th>\n",
              "        </tr>\n",
              "    </thead>\n",
              "    <tbody>\n",
              "        <tr>\n",
              "            <td>1</td>\n",
              "            <td>2</td>\n",
              "        </tr>\n",
              "        <tr>\n",
              "            <td>2</td>\n",
              "            <td>2</td>\n",
              "        </tr>\n",
              "        <tr>\n",
              "            <td>3</td>\n",
              "            <td>2</td>\n",
              "        </tr>\n",
              "        <tr>\n",
              "            <td>4</td>\n",
              "            <td>1</td>\n",
              "        </tr>\n",
              "        <tr>\n",
              "            <td>5</td>\n",
              "            <td>1</td>\n",
              "        </tr>\n",
              "        <tr>\n",
              "            <td>6</td>\n",
              "            <td>1</td>\n",
              "        </tr>\n",
              "        <tr>\n",
              "            <td>7</td>\n",
              "            <td>1</td>\n",
              "        </tr>\n",
              "        <tr>\n",
              "            <td>8</td>\n",
              "            <td>1</td>\n",
              "        </tr>\n",
              "        <tr>\n",
              "            <td>9</td>\n",
              "            <td>1</td>\n",
              "        </tr>\n",
              "        <tr>\n",
              "            <td>10</td>\n",
              "            <td>1</td>\n",
              "        </tr>\n",
              "        <tr>\n",
              "            <td>11</td>\n",
              "            <td>1</td>\n",
              "        </tr>\n",
              "        <tr>\n",
              "            <td>12</td>\n",
              "            <td>1</td>\n",
              "        </tr>\n",
              "        <tr>\n",
              "            <td>13</td>\n",
              "            <td>1</td>\n",
              "        </tr>\n",
              "    </tbody>\n",
              "</table>"
            ]
          },
          "metadata": {},
          "execution_count": 14
        }
      ]
    },
    {
      "cell_type": "code",
      "source": [
        "%%sql\n",
        "\n",
        "-- Which customer has made the most orders?\n",
        "SELECT customers.first_name, customers.last_name\n",
        "FROM customers\n",
        "WHERE customers.customer_id IN (\n",
        "  SELECT  COUNT(order_id) AS order_counts\n",
        "  FROM orders\n",
        "  GROUP BY orders.customer_id\n",
        "  LIMIT 1\n",
        "\n",
        ");"
      ],
      "metadata": {
        "colab": {
          "base_uri": "https://localhost:8080/",
          "height": 96
        },
        "id": "1sXgPnwDlafO",
        "outputId": "9390c037-2b56-4d00-f9d0-f6f466841f18"
      },
      "execution_count": 15,
      "outputs": [
        {
          "output_type": "stream",
          "name": "stdout",
          "text": [
            " * sqlite:///ABC_DATA.db\n",
            "Done.\n"
          ]
        },
        {
          "output_type": "execute_result",
          "data": {
            "text/plain": [
              "[('Jane', 'Smith')]"
            ],
            "text/html": [
              "<table>\n",
              "    <thead>\n",
              "        <tr>\n",
              "            <th>first_name</th>\n",
              "            <th>last_name</th>\n",
              "        </tr>\n",
              "    </thead>\n",
              "    <tbody>\n",
              "        <tr>\n",
              "            <td>Jane</td>\n",
              "            <td>Smith</td>\n",
              "        </tr>\n",
              "    </tbody>\n",
              "</table>"
            ]
          },
          "metadata": {},
          "execution_count": 15
        }
      ]
    },
    {
      "cell_type": "markdown",
      "source": [
        "Customer with the most orders is Jane Smith\n"
      ],
      "metadata": {
        "id": "p1J7PstdnS3o"
      }
    },
    {
      "cell_type": "code",
      "source": [
        "%%sql\n",
        "--Which customer has made the most orders?\n",
        "\n",
        "SELECT customers.first_name, customers.last_name\n",
        "FROM customers\n",
        "WHERE customers.customer_id IN (\n",
        "  SELECT  COUNT(order_id) AS order_counts\n",
        "  FROM orders\n",
        "  GROUP BY orders.customer_id\n",
        "  );"
      ],
      "metadata": {
        "colab": {
          "base_uri": "https://localhost:8080/",
          "height": 118
        },
        "id": "UUu6arxUmzn2",
        "outputId": "2121dce5-e6a1-4cda-fbd2-710a1185c448"
      },
      "execution_count": 16,
      "outputs": [
        {
          "output_type": "stream",
          "name": "stdout",
          "text": [
            " * sqlite:///ABC_DATA.db\n",
            "Done.\n"
          ]
        },
        {
          "output_type": "execute_result",
          "data": {
            "text/plain": [
              "[('John', 'Doe'), ('Jane', 'Smith')]"
            ],
            "text/html": [
              "<table>\n",
              "    <thead>\n",
              "        <tr>\n",
              "            <th>first_name</th>\n",
              "            <th>last_name</th>\n",
              "        </tr>\n",
              "    </thead>\n",
              "    <tbody>\n",
              "        <tr>\n",
              "            <td>John</td>\n",
              "            <td>Doe</td>\n",
              "        </tr>\n",
              "        <tr>\n",
              "            <td>Jane</td>\n",
              "            <td>Smith</td>\n",
              "        </tr>\n",
              "    </tbody>\n",
              "</table>"
            ]
          },
          "metadata": {},
          "execution_count": 16
        }
      ]
    },
    {
      "cell_type": "code",
      "source": [
        "%%sql\n",
        "\n",
        "SELECT *\n",
        "FROM products;"
      ],
      "metadata": {
        "colab": {
          "base_uri": "https://localhost:8080/",
          "height": 353
        },
        "id": "kXt-xMDrntL9",
        "outputId": "be392b23-db7e-4fa6-f665-3a25f2d35f8e"
      },
      "execution_count": 17,
      "outputs": [
        {
          "output_type": "stream",
          "name": "stdout",
          "text": [
            " * sqlite:///ABC_DATA.db\n",
            "Done.\n"
          ]
        },
        {
          "output_type": "execute_result",
          "data": {
            "text/plain": [
              "[(1, 'Product A', 10.0),\n",
              " (2, 'Product B', 15.0),\n",
              " (3, 'Product C', 20.0),\n",
              " (4, 'Product D', 25.0),\n",
              " (5, 'Product E', 30.0),\n",
              " (6, 'Product F', 35.0),\n",
              " (7, 'Product G', 40.0),\n",
              " (8, 'Product H', 45.0),\n",
              " (9, 'Product I', 50.0),\n",
              " (10, 'Product J', 55.0),\n",
              " (11, 'Product K', 60.0),\n",
              " (12, 'Product L', 65.0),\n",
              " (13, 'Product M', 70.0)]"
            ],
            "text/html": [
              "<table>\n",
              "    <thead>\n",
              "        <tr>\n",
              "            <th>product_id</th>\n",
              "            <th>product_name</th>\n",
              "            <th>price</th>\n",
              "        </tr>\n",
              "    </thead>\n",
              "    <tbody>\n",
              "        <tr>\n",
              "            <td>1</td>\n",
              "            <td>Product A</td>\n",
              "            <td>10.0</td>\n",
              "        </tr>\n",
              "        <tr>\n",
              "            <td>2</td>\n",
              "            <td>Product B</td>\n",
              "            <td>15.0</td>\n",
              "        </tr>\n",
              "        <tr>\n",
              "            <td>3</td>\n",
              "            <td>Product C</td>\n",
              "            <td>20.0</td>\n",
              "        </tr>\n",
              "        <tr>\n",
              "            <td>4</td>\n",
              "            <td>Product D</td>\n",
              "            <td>25.0</td>\n",
              "        </tr>\n",
              "        <tr>\n",
              "            <td>5</td>\n",
              "            <td>Product E</td>\n",
              "            <td>30.0</td>\n",
              "        </tr>\n",
              "        <tr>\n",
              "            <td>6</td>\n",
              "            <td>Product F</td>\n",
              "            <td>35.0</td>\n",
              "        </tr>\n",
              "        <tr>\n",
              "            <td>7</td>\n",
              "            <td>Product G</td>\n",
              "            <td>40.0</td>\n",
              "        </tr>\n",
              "        <tr>\n",
              "            <td>8</td>\n",
              "            <td>Product H</td>\n",
              "            <td>45.0</td>\n",
              "        </tr>\n",
              "        <tr>\n",
              "            <td>9</td>\n",
              "            <td>Product I</td>\n",
              "            <td>50.0</td>\n",
              "        </tr>\n",
              "        <tr>\n",
              "            <td>10</td>\n",
              "            <td>Product J</td>\n",
              "            <td>55.0</td>\n",
              "        </tr>\n",
              "        <tr>\n",
              "            <td>11</td>\n",
              "            <td>Product K</td>\n",
              "            <td>60.0</td>\n",
              "        </tr>\n",
              "        <tr>\n",
              "            <td>12</td>\n",
              "            <td>Product L</td>\n",
              "            <td>65.0</td>\n",
              "        </tr>\n",
              "        <tr>\n",
              "            <td>13</td>\n",
              "            <td>Product M</td>\n",
              "            <td>70.0</td>\n",
              "        </tr>\n",
              "    </tbody>\n",
              "</table>"
            ]
          },
          "metadata": {},
          "execution_count": 17
        }
      ]
    },
    {
      "cell_type": "code",
      "source": [
        "%%sql\n",
        "\n",
        "SELECT *\n",
        "FROM order_items;"
      ],
      "metadata": {
        "colab": {
          "base_uri": "https://localhost:8080/",
          "height": 759
        },
        "id": "pN-x7VY1n01H",
        "outputId": "8c258487-a455-4a50-e11a-035c4db57beb"
      },
      "execution_count": 18,
      "outputs": [
        {
          "output_type": "stream",
          "name": "stdout",
          "text": [
            " * sqlite:///ABC_DATA.db\n",
            "Done.\n"
          ]
        },
        {
          "output_type": "execute_result",
          "data": {
            "text/plain": [
              "[(1, 1, 2),\n",
              " (1, 2, 1),\n",
              " (2, 2, 1),\n",
              " (2, 3, 3),\n",
              " (3, 1, 1),\n",
              " (3, 3, 2),\n",
              " (4, 2, 4),\n",
              " (4, 3, 1),\n",
              " (5, 1, 1),\n",
              " (5, 3, 2),\n",
              " (6, 2, 3),\n",
              " (6, 1, 1),\n",
              " (7, 4, 1),\n",
              " (7, 5, 2),\n",
              " (8, 6, 3),\n",
              " (8, 7, 1),\n",
              " (9, 8, 2),\n",
              " (9, 9, 1),\n",
              " (10, 10, 3),\n",
              " (10, 11, 2),\n",
              " (11, 12, 1),\n",
              " (11, 13, 3),\n",
              " (12, 4, 2),\n",
              " (12, 5, 1),\n",
              " (13, 6, 3),\n",
              " (13, 7, 2),\n",
              " (14, 8, 1),\n",
              " (14, 9, 2),\n",
              " (15, 10, 3),\n",
              " (15, 11, 1),\n",
              " (16, 12, 2),\n",
              " (16, 13, 3)]"
            ],
            "text/html": [
              "<table>\n",
              "    <thead>\n",
              "        <tr>\n",
              "            <th>order_id</th>\n",
              "            <th>Product_id</th>\n",
              "            <th>quantity</th>\n",
              "        </tr>\n",
              "    </thead>\n",
              "    <tbody>\n",
              "        <tr>\n",
              "            <td>1</td>\n",
              "            <td>1</td>\n",
              "            <td>2</td>\n",
              "        </tr>\n",
              "        <tr>\n",
              "            <td>1</td>\n",
              "            <td>2</td>\n",
              "            <td>1</td>\n",
              "        </tr>\n",
              "        <tr>\n",
              "            <td>2</td>\n",
              "            <td>2</td>\n",
              "            <td>1</td>\n",
              "        </tr>\n",
              "        <tr>\n",
              "            <td>2</td>\n",
              "            <td>3</td>\n",
              "            <td>3</td>\n",
              "        </tr>\n",
              "        <tr>\n",
              "            <td>3</td>\n",
              "            <td>1</td>\n",
              "            <td>1</td>\n",
              "        </tr>\n",
              "        <tr>\n",
              "            <td>3</td>\n",
              "            <td>3</td>\n",
              "            <td>2</td>\n",
              "        </tr>\n",
              "        <tr>\n",
              "            <td>4</td>\n",
              "            <td>2</td>\n",
              "            <td>4</td>\n",
              "        </tr>\n",
              "        <tr>\n",
              "            <td>4</td>\n",
              "            <td>3</td>\n",
              "            <td>1</td>\n",
              "        </tr>\n",
              "        <tr>\n",
              "            <td>5</td>\n",
              "            <td>1</td>\n",
              "            <td>1</td>\n",
              "        </tr>\n",
              "        <tr>\n",
              "            <td>5</td>\n",
              "            <td>3</td>\n",
              "            <td>2</td>\n",
              "        </tr>\n",
              "        <tr>\n",
              "            <td>6</td>\n",
              "            <td>2</td>\n",
              "            <td>3</td>\n",
              "        </tr>\n",
              "        <tr>\n",
              "            <td>6</td>\n",
              "            <td>1</td>\n",
              "            <td>1</td>\n",
              "        </tr>\n",
              "        <tr>\n",
              "            <td>7</td>\n",
              "            <td>4</td>\n",
              "            <td>1</td>\n",
              "        </tr>\n",
              "        <tr>\n",
              "            <td>7</td>\n",
              "            <td>5</td>\n",
              "            <td>2</td>\n",
              "        </tr>\n",
              "        <tr>\n",
              "            <td>8</td>\n",
              "            <td>6</td>\n",
              "            <td>3</td>\n",
              "        </tr>\n",
              "        <tr>\n",
              "            <td>8</td>\n",
              "            <td>7</td>\n",
              "            <td>1</td>\n",
              "        </tr>\n",
              "        <tr>\n",
              "            <td>9</td>\n",
              "            <td>8</td>\n",
              "            <td>2</td>\n",
              "        </tr>\n",
              "        <tr>\n",
              "            <td>9</td>\n",
              "            <td>9</td>\n",
              "            <td>1</td>\n",
              "        </tr>\n",
              "        <tr>\n",
              "            <td>10</td>\n",
              "            <td>10</td>\n",
              "            <td>3</td>\n",
              "        </tr>\n",
              "        <tr>\n",
              "            <td>10</td>\n",
              "            <td>11</td>\n",
              "            <td>2</td>\n",
              "        </tr>\n",
              "        <tr>\n",
              "            <td>11</td>\n",
              "            <td>12</td>\n",
              "            <td>1</td>\n",
              "        </tr>\n",
              "        <tr>\n",
              "            <td>11</td>\n",
              "            <td>13</td>\n",
              "            <td>3</td>\n",
              "        </tr>\n",
              "        <tr>\n",
              "            <td>12</td>\n",
              "            <td>4</td>\n",
              "            <td>2</td>\n",
              "        </tr>\n",
              "        <tr>\n",
              "            <td>12</td>\n",
              "            <td>5</td>\n",
              "            <td>1</td>\n",
              "        </tr>\n",
              "        <tr>\n",
              "            <td>13</td>\n",
              "            <td>6</td>\n",
              "            <td>3</td>\n",
              "        </tr>\n",
              "        <tr>\n",
              "            <td>13</td>\n",
              "            <td>7</td>\n",
              "            <td>2</td>\n",
              "        </tr>\n",
              "        <tr>\n",
              "            <td>14</td>\n",
              "            <td>8</td>\n",
              "            <td>1</td>\n",
              "        </tr>\n",
              "        <tr>\n",
              "            <td>14</td>\n",
              "            <td>9</td>\n",
              "            <td>2</td>\n",
              "        </tr>\n",
              "        <tr>\n",
              "            <td>15</td>\n",
              "            <td>10</td>\n",
              "            <td>3</td>\n",
              "        </tr>\n",
              "        <tr>\n",
              "            <td>15</td>\n",
              "            <td>11</td>\n",
              "            <td>1</td>\n",
              "        </tr>\n",
              "        <tr>\n",
              "            <td>16</td>\n",
              "            <td>12</td>\n",
              "            <td>2</td>\n",
              "        </tr>\n",
              "        <tr>\n",
              "            <td>16</td>\n",
              "            <td>13</td>\n",
              "            <td>3</td>\n",
              "        </tr>\n",
              "    </tbody>\n",
              "</table>"
            ]
          },
          "metadata": {},
          "execution_count": 18
        }
      ]
    },
    {
      "cell_type": "code",
      "source": [
        "%%sql\n",
        "\n",
        "SELECT *\n",
        "FROM order_items\n",
        "GROUP BY order_id;"
      ],
      "metadata": {
        "colab": {
          "base_uri": "https://localhost:8080/",
          "height": 417
        },
        "id": "3cookbheopRy",
        "outputId": "d7bfc51c-7d8c-403e-b28f-76245dd469d1"
      },
      "execution_count": 19,
      "outputs": [
        {
          "output_type": "stream",
          "name": "stdout",
          "text": [
            " * sqlite:///ABC_DATA.db\n",
            "Done.\n"
          ]
        },
        {
          "output_type": "execute_result",
          "data": {
            "text/plain": [
              "[(1, 1, 2),\n",
              " (2, 2, 1),\n",
              " (3, 1, 1),\n",
              " (4, 2, 4),\n",
              " (5, 1, 1),\n",
              " (6, 2, 3),\n",
              " (7, 4, 1),\n",
              " (8, 6, 3),\n",
              " (9, 8, 2),\n",
              " (10, 10, 3),\n",
              " (11, 12, 1),\n",
              " (12, 4, 2),\n",
              " (13, 6, 3),\n",
              " (14, 8, 1),\n",
              " (15, 10, 3),\n",
              " (16, 12, 2)]"
            ],
            "text/html": [
              "<table>\n",
              "    <thead>\n",
              "        <tr>\n",
              "            <th>order_id</th>\n",
              "            <th>Product_id</th>\n",
              "            <th>quantity</th>\n",
              "        </tr>\n",
              "    </thead>\n",
              "    <tbody>\n",
              "        <tr>\n",
              "            <td>1</td>\n",
              "            <td>1</td>\n",
              "            <td>2</td>\n",
              "        </tr>\n",
              "        <tr>\n",
              "            <td>2</td>\n",
              "            <td>2</td>\n",
              "            <td>1</td>\n",
              "        </tr>\n",
              "        <tr>\n",
              "            <td>3</td>\n",
              "            <td>1</td>\n",
              "            <td>1</td>\n",
              "        </tr>\n",
              "        <tr>\n",
              "            <td>4</td>\n",
              "            <td>2</td>\n",
              "            <td>4</td>\n",
              "        </tr>\n",
              "        <tr>\n",
              "            <td>5</td>\n",
              "            <td>1</td>\n",
              "            <td>1</td>\n",
              "        </tr>\n",
              "        <tr>\n",
              "            <td>6</td>\n",
              "            <td>2</td>\n",
              "            <td>3</td>\n",
              "        </tr>\n",
              "        <tr>\n",
              "            <td>7</td>\n",
              "            <td>4</td>\n",
              "            <td>1</td>\n",
              "        </tr>\n",
              "        <tr>\n",
              "            <td>8</td>\n",
              "            <td>6</td>\n",
              "            <td>3</td>\n",
              "        </tr>\n",
              "        <tr>\n",
              "            <td>9</td>\n",
              "            <td>8</td>\n",
              "            <td>2</td>\n",
              "        </tr>\n",
              "        <tr>\n",
              "            <td>10</td>\n",
              "            <td>10</td>\n",
              "            <td>3</td>\n",
              "        </tr>\n",
              "        <tr>\n",
              "            <td>11</td>\n",
              "            <td>12</td>\n",
              "            <td>1</td>\n",
              "        </tr>\n",
              "        <tr>\n",
              "            <td>12</td>\n",
              "            <td>4</td>\n",
              "            <td>2</td>\n",
              "        </tr>\n",
              "        <tr>\n",
              "            <td>13</td>\n",
              "            <td>6</td>\n",
              "            <td>3</td>\n",
              "        </tr>\n",
              "        <tr>\n",
              "            <td>14</td>\n",
              "            <td>8</td>\n",
              "            <td>1</td>\n",
              "        </tr>\n",
              "        <tr>\n",
              "            <td>15</td>\n",
              "            <td>10</td>\n",
              "            <td>3</td>\n",
              "        </tr>\n",
              "        <tr>\n",
              "            <td>16</td>\n",
              "            <td>12</td>\n",
              "            <td>2</td>\n",
              "        </tr>\n",
              "    </tbody>\n",
              "</table>"
            ]
          },
          "metadata": {},
          "execution_count": 19
        }
      ]
    },
    {
      "cell_type": "code",
      "source": [
        "%%sql\n",
        "\n",
        "--Total revenue per product\n",
        "SELECT p.product_name, p.price * SUM(oi.quantity) AS total_revenue\n",
        "FROM products p\n",
        "JOIN order_items oi\n",
        "ON oi.product_id = p.product_id\n",
        "GROUP BY product_name\n",
        "ORDER BY total_revenue DESC;"
      ],
      "metadata": {
        "colab": {
          "base_uri": "https://localhost:8080/",
          "height": 353
        },
        "id": "yfyLocWH1ng4",
        "outputId": "c41900d8-79b7-4c17-d161-672a0f806e02"
      },
      "execution_count": 20,
      "outputs": [
        {
          "output_type": "stream",
          "name": "stdout",
          "text": [
            " * sqlite:///ABC_DATA.db\n",
            "Done.\n"
          ]
        },
        {
          "output_type": "execute_result",
          "data": {
            "text/plain": [
              "[('Product M', 420.0),\n",
              " ('Product J', 330.0),\n",
              " ('Product F', 210.0),\n",
              " ('Product L', 195.0),\n",
              " ('Product K', 180.0),\n",
              " ('Product C', 160.0),\n",
              " ('Product I', 150.0),\n",
              " ('Product H', 135.0),\n",
              " ('Product B', 135.0),\n",
              " ('Product G', 120.0),\n",
              " ('Product E', 90.0),\n",
              " ('Product D', 75.0),\n",
              " ('Product A', 50.0)]"
            ],
            "text/html": [
              "<table>\n",
              "    <thead>\n",
              "        <tr>\n",
              "            <th>product_name</th>\n",
              "            <th>total_revenue</th>\n",
              "        </tr>\n",
              "    </thead>\n",
              "    <tbody>\n",
              "        <tr>\n",
              "            <td>Product M</td>\n",
              "            <td>420.0</td>\n",
              "        </tr>\n",
              "        <tr>\n",
              "            <td>Product J</td>\n",
              "            <td>330.0</td>\n",
              "        </tr>\n",
              "        <tr>\n",
              "            <td>Product F</td>\n",
              "            <td>210.0</td>\n",
              "        </tr>\n",
              "        <tr>\n",
              "            <td>Product L</td>\n",
              "            <td>195.0</td>\n",
              "        </tr>\n",
              "        <tr>\n",
              "            <td>Product K</td>\n",
              "            <td>180.0</td>\n",
              "        </tr>\n",
              "        <tr>\n",
              "            <td>Product C</td>\n",
              "            <td>160.0</td>\n",
              "        </tr>\n",
              "        <tr>\n",
              "            <td>Product I</td>\n",
              "            <td>150.0</td>\n",
              "        </tr>\n",
              "        <tr>\n",
              "            <td>Product H</td>\n",
              "            <td>135.0</td>\n",
              "        </tr>\n",
              "        <tr>\n",
              "            <td>Product B</td>\n",
              "            <td>135.0</td>\n",
              "        </tr>\n",
              "        <tr>\n",
              "            <td>Product G</td>\n",
              "            <td>120.0</td>\n",
              "        </tr>\n",
              "        <tr>\n",
              "            <td>Product E</td>\n",
              "            <td>90.0</td>\n",
              "        </tr>\n",
              "        <tr>\n",
              "            <td>Product D</td>\n",
              "            <td>75.0</td>\n",
              "        </tr>\n",
              "        <tr>\n",
              "            <td>Product A</td>\n",
              "            <td>50.0</td>\n",
              "        </tr>\n",
              "    </tbody>\n",
              "</table>"
            ]
          },
          "metadata": {},
          "execution_count": 20
        }
      ]
    },
    {
      "cell_type": "markdown",
      "source": [
        "# Day 5 Challenge\n",
        "\n",
        " Your task will be to answer the following questions:\n",
        "\n",
        "1. Find the first order (by date) for each customer.\n",
        "2. What’s the total revenue per product?\n",
        "3. Find the day with the highest revenue. Hint : Your Query will have the following Syntax:\n",
        "\n",
        "\n",
        "                         SELECT\n",
        "                         c.first_name,\n",
        "                         c.last_name,\n",
        "                         p.price FROM xxxx o\n",
        "                         JOIN order_items oi on oi.order_id = o.order_id\n",
        "                         JOIN products p on p.product_id =oi.product_id\n",
        "                         JOIN customers c on c.customer_id=o.customer_id\n",
        "                         WHERE price=(SELECT XXX(xxx) FROM xxxx );"
      ],
      "metadata": {
        "id": "MQgVsugK9c3v"
      }
    },
    {
      "cell_type": "code",
      "source": [
        "%%sql\n",
        "SELECT *\n",
        "FROM customers c\n",
        "LEFT JOIN orders o\n",
        "ON c.customer_id = o.customer_id;"
      ],
      "metadata": {
        "id": "52Cu6t1sfbCq",
        "colab": {
          "base_uri": "https://localhost:8080/",
          "height": 417
        },
        "outputId": "2f364862-7b7a-477b-bba5-083aae3ec524"
      },
      "execution_count": 21,
      "outputs": [
        {
          "output_type": "stream",
          "name": "stdout",
          "text": [
            " * sqlite:///ABC_DATA.db\n",
            "Done.\n"
          ]
        },
        {
          "output_type": "execute_result",
          "data": {
            "text/plain": [
              "[(1, 'John', 'Doe', 'johndoe@email.com', 1, 1, '2023-05-01'),\n",
              " (1, 'John', 'Doe', 'johndoe@email.com', 4, 1, '2023-05-04'),\n",
              " (2, 'Jane', 'Smith', 'janesmith@email.com', 2, 2, '2023-05-02'),\n",
              " (2, 'Jane', 'Smith', 'janesmith@email.com', 5, 2, '2023-05-05'),\n",
              " (3, 'Bob', 'Johnson', 'bobjohnson@email.com', 3, 3, '2023-05-03'),\n",
              " (3, 'Bob', 'Johnson', 'bobjohnson@email.com', 6, 3, '2023-05-06'),\n",
              " (4, 'Alice', 'Brown', 'alicebrown@email.com', 7, 4, '2023-05-07'),\n",
              " (5, 'Charlie', 'Davis', 'charliedavis@email.com', 8, 5, '2023-05-08'),\n",
              " (6, 'Eva', 'Fisher', 'evafisher@email.com', 9, 6, '2023-05-09'),\n",
              " (7, 'George', 'Harris', 'georgeharris@email.com', 10, 7, '2023-05-10'),\n",
              " (8, 'Ivy', 'Jones', 'ivyjones@email.com', 11, 8, '2023-05-11'),\n",
              " (9, 'Kevin', 'Miller', 'kevinmiller@email.com', 12, 9, '2023-05-12'),\n",
              " (10, 'Lily', 'Nelson', 'lilynelson@email.com', 13, 10, '2023-05-13'),\n",
              " (11, 'Oliver', 'Patterson', 'oliverpatterson@email.com', 14, 11, '2023-05-14'),\n",
              " (12, 'Quinn', 'Roberts', 'quinnroberts@email.com', 15, 12, '2023-05-15'),\n",
              " (13, 'Sophia', 'Thomas', 'sophiathomas@email.com', 16, 13, '2023-05-16')]"
            ],
            "text/html": [
              "<table>\n",
              "    <thead>\n",
              "        <tr>\n",
              "            <th>customer_id</th>\n",
              "            <th>first_name</th>\n",
              "            <th>last_name</th>\n",
              "            <th>email</th>\n",
              "            <th>order_id</th>\n",
              "            <th>customer_id_1</th>\n",
              "            <th>order_date</th>\n",
              "        </tr>\n",
              "    </thead>\n",
              "    <tbody>\n",
              "        <tr>\n",
              "            <td>1</td>\n",
              "            <td>John</td>\n",
              "            <td>Doe</td>\n",
              "            <td>johndoe@email.com</td>\n",
              "            <td>1</td>\n",
              "            <td>1</td>\n",
              "            <td>2023-05-01</td>\n",
              "        </tr>\n",
              "        <tr>\n",
              "            <td>1</td>\n",
              "            <td>John</td>\n",
              "            <td>Doe</td>\n",
              "            <td>johndoe@email.com</td>\n",
              "            <td>4</td>\n",
              "            <td>1</td>\n",
              "            <td>2023-05-04</td>\n",
              "        </tr>\n",
              "        <tr>\n",
              "            <td>2</td>\n",
              "            <td>Jane</td>\n",
              "            <td>Smith</td>\n",
              "            <td>janesmith@email.com</td>\n",
              "            <td>2</td>\n",
              "            <td>2</td>\n",
              "            <td>2023-05-02</td>\n",
              "        </tr>\n",
              "        <tr>\n",
              "            <td>2</td>\n",
              "            <td>Jane</td>\n",
              "            <td>Smith</td>\n",
              "            <td>janesmith@email.com</td>\n",
              "            <td>5</td>\n",
              "            <td>2</td>\n",
              "            <td>2023-05-05</td>\n",
              "        </tr>\n",
              "        <tr>\n",
              "            <td>3</td>\n",
              "            <td>Bob</td>\n",
              "            <td>Johnson</td>\n",
              "            <td>bobjohnson@email.com</td>\n",
              "            <td>3</td>\n",
              "            <td>3</td>\n",
              "            <td>2023-05-03</td>\n",
              "        </tr>\n",
              "        <tr>\n",
              "            <td>3</td>\n",
              "            <td>Bob</td>\n",
              "            <td>Johnson</td>\n",
              "            <td>bobjohnson@email.com</td>\n",
              "            <td>6</td>\n",
              "            <td>3</td>\n",
              "            <td>2023-05-06</td>\n",
              "        </tr>\n",
              "        <tr>\n",
              "            <td>4</td>\n",
              "            <td>Alice</td>\n",
              "            <td>Brown</td>\n",
              "            <td>alicebrown@email.com</td>\n",
              "            <td>7</td>\n",
              "            <td>4</td>\n",
              "            <td>2023-05-07</td>\n",
              "        </tr>\n",
              "        <tr>\n",
              "            <td>5</td>\n",
              "            <td>Charlie</td>\n",
              "            <td>Davis</td>\n",
              "            <td>charliedavis@email.com</td>\n",
              "            <td>8</td>\n",
              "            <td>5</td>\n",
              "            <td>2023-05-08</td>\n",
              "        </tr>\n",
              "        <tr>\n",
              "            <td>6</td>\n",
              "            <td>Eva</td>\n",
              "            <td>Fisher</td>\n",
              "            <td>evafisher@email.com</td>\n",
              "            <td>9</td>\n",
              "            <td>6</td>\n",
              "            <td>2023-05-09</td>\n",
              "        </tr>\n",
              "        <tr>\n",
              "            <td>7</td>\n",
              "            <td>George</td>\n",
              "            <td>Harris</td>\n",
              "            <td>georgeharris@email.com</td>\n",
              "            <td>10</td>\n",
              "            <td>7</td>\n",
              "            <td>2023-05-10</td>\n",
              "        </tr>\n",
              "        <tr>\n",
              "            <td>8</td>\n",
              "            <td>Ivy</td>\n",
              "            <td>Jones</td>\n",
              "            <td>ivyjones@email.com</td>\n",
              "            <td>11</td>\n",
              "            <td>8</td>\n",
              "            <td>2023-05-11</td>\n",
              "        </tr>\n",
              "        <tr>\n",
              "            <td>9</td>\n",
              "            <td>Kevin</td>\n",
              "            <td>Miller</td>\n",
              "            <td>kevinmiller@email.com</td>\n",
              "            <td>12</td>\n",
              "            <td>9</td>\n",
              "            <td>2023-05-12</td>\n",
              "        </tr>\n",
              "        <tr>\n",
              "            <td>10</td>\n",
              "            <td>Lily</td>\n",
              "            <td>Nelson</td>\n",
              "            <td>lilynelson@email.com</td>\n",
              "            <td>13</td>\n",
              "            <td>10</td>\n",
              "            <td>2023-05-13</td>\n",
              "        </tr>\n",
              "        <tr>\n",
              "            <td>11</td>\n",
              "            <td>Oliver</td>\n",
              "            <td>Patterson</td>\n",
              "            <td>oliverpatterson@email.com</td>\n",
              "            <td>14</td>\n",
              "            <td>11</td>\n",
              "            <td>2023-05-14</td>\n",
              "        </tr>\n",
              "        <tr>\n",
              "            <td>12</td>\n",
              "            <td>Quinn</td>\n",
              "            <td>Roberts</td>\n",
              "            <td>quinnroberts@email.com</td>\n",
              "            <td>15</td>\n",
              "            <td>12</td>\n",
              "            <td>2023-05-15</td>\n",
              "        </tr>\n",
              "        <tr>\n",
              "            <td>13</td>\n",
              "            <td>Sophia</td>\n",
              "            <td>Thomas</td>\n",
              "            <td>sophiathomas@email.com</td>\n",
              "            <td>16</td>\n",
              "            <td>13</td>\n",
              "            <td>2023-05-16</td>\n",
              "        </tr>\n",
              "    </tbody>\n",
              "</table>"
            ]
          },
          "metadata": {},
          "execution_count": 21
        }
      ]
    },
    {
      "cell_type": "code",
      "source": [
        "%%sql\n",
        "--First order by date for each customer\n",
        "SELECT c.customer_id, c.first_name, c.last_name,MIN(o.order_date) AS first_order_date\n",
        "FROM customers c\n",
        "LEFT JOIN orders o\n",
        "ON c.customer_id = o.customer_id\n",
        "GROUP BY c.customer_id;"
      ],
      "metadata": {
        "colab": {
          "base_uri": "https://localhost:8080/",
          "height": 353
        },
        "id": "v--xSuYw_jtq",
        "outputId": "3357c312-8d0f-4091-cedd-b63227467159"
      },
      "execution_count": 22,
      "outputs": [
        {
          "output_type": "stream",
          "name": "stdout",
          "text": [
            " * sqlite:///ABC_DATA.db\n",
            "Done.\n"
          ]
        },
        {
          "output_type": "execute_result",
          "data": {
            "text/plain": [
              "[(1, 'John', 'Doe', '2023-05-01'),\n",
              " (2, 'Jane', 'Smith', '2023-05-02'),\n",
              " (3, 'Bob', 'Johnson', '2023-05-03'),\n",
              " (4, 'Alice', 'Brown', '2023-05-07'),\n",
              " (5, 'Charlie', 'Davis', '2023-05-08'),\n",
              " (6, 'Eva', 'Fisher', '2023-05-09'),\n",
              " (7, 'George', 'Harris', '2023-05-10'),\n",
              " (8, 'Ivy', 'Jones', '2023-05-11'),\n",
              " (9, 'Kevin', 'Miller', '2023-05-12'),\n",
              " (10, 'Lily', 'Nelson', '2023-05-13'),\n",
              " (11, 'Oliver', 'Patterson', '2023-05-14'),\n",
              " (12, 'Quinn', 'Roberts', '2023-05-15'),\n",
              " (13, 'Sophia', 'Thomas', '2023-05-16')]"
            ],
            "text/html": [
              "<table>\n",
              "    <thead>\n",
              "        <tr>\n",
              "            <th>customer_id</th>\n",
              "            <th>first_name</th>\n",
              "            <th>last_name</th>\n",
              "            <th>first_order_date</th>\n",
              "        </tr>\n",
              "    </thead>\n",
              "    <tbody>\n",
              "        <tr>\n",
              "            <td>1</td>\n",
              "            <td>John</td>\n",
              "            <td>Doe</td>\n",
              "            <td>2023-05-01</td>\n",
              "        </tr>\n",
              "        <tr>\n",
              "            <td>2</td>\n",
              "            <td>Jane</td>\n",
              "            <td>Smith</td>\n",
              "            <td>2023-05-02</td>\n",
              "        </tr>\n",
              "        <tr>\n",
              "            <td>3</td>\n",
              "            <td>Bob</td>\n",
              "            <td>Johnson</td>\n",
              "            <td>2023-05-03</td>\n",
              "        </tr>\n",
              "        <tr>\n",
              "            <td>4</td>\n",
              "            <td>Alice</td>\n",
              "            <td>Brown</td>\n",
              "            <td>2023-05-07</td>\n",
              "        </tr>\n",
              "        <tr>\n",
              "            <td>5</td>\n",
              "            <td>Charlie</td>\n",
              "            <td>Davis</td>\n",
              "            <td>2023-05-08</td>\n",
              "        </tr>\n",
              "        <tr>\n",
              "            <td>6</td>\n",
              "            <td>Eva</td>\n",
              "            <td>Fisher</td>\n",
              "            <td>2023-05-09</td>\n",
              "        </tr>\n",
              "        <tr>\n",
              "            <td>7</td>\n",
              "            <td>George</td>\n",
              "            <td>Harris</td>\n",
              "            <td>2023-05-10</td>\n",
              "        </tr>\n",
              "        <tr>\n",
              "            <td>8</td>\n",
              "            <td>Ivy</td>\n",
              "            <td>Jones</td>\n",
              "            <td>2023-05-11</td>\n",
              "        </tr>\n",
              "        <tr>\n",
              "            <td>9</td>\n",
              "            <td>Kevin</td>\n",
              "            <td>Miller</td>\n",
              "            <td>2023-05-12</td>\n",
              "        </tr>\n",
              "        <tr>\n",
              "            <td>10</td>\n",
              "            <td>Lily</td>\n",
              "            <td>Nelson</td>\n",
              "            <td>2023-05-13</td>\n",
              "        </tr>\n",
              "        <tr>\n",
              "            <td>11</td>\n",
              "            <td>Oliver</td>\n",
              "            <td>Patterson</td>\n",
              "            <td>2023-05-14</td>\n",
              "        </tr>\n",
              "        <tr>\n",
              "            <td>12</td>\n",
              "            <td>Quinn</td>\n",
              "            <td>Roberts</td>\n",
              "            <td>2023-05-15</td>\n",
              "        </tr>\n",
              "        <tr>\n",
              "            <td>13</td>\n",
              "            <td>Sophia</td>\n",
              "            <td>Thomas</td>\n",
              "            <td>2023-05-16</td>\n",
              "        </tr>\n",
              "    </tbody>\n",
              "</table>"
            ]
          },
          "metadata": {},
          "execution_count": 22
        }
      ]
    },
    {
      "cell_type": "code",
      "source": [
        "%%sql\n",
        "--Total revenue per product\n",
        "SELECT p.product_name, p.price * SUM(oi.quantity) AS total_revenue\n",
        "FROM products p\n",
        "JOIN order_items oi\n",
        "ON oi.product_id = p.product_id\n",
        "GROUP BY product_name\n",
        "ORDER BY total_revenue DESC;"
      ],
      "metadata": {
        "id": "FFlV0HWMBmzp",
        "colab": {
          "base_uri": "https://localhost:8080/",
          "height": 353
        },
        "outputId": "c93dcfcd-8a9f-43d0-c88e-052ef83d7190"
      },
      "execution_count": 23,
      "outputs": [
        {
          "output_type": "stream",
          "name": "stdout",
          "text": [
            " * sqlite:///ABC_DATA.db\n",
            "Done.\n"
          ]
        },
        {
          "output_type": "execute_result",
          "data": {
            "text/plain": [
              "[('Product M', 420.0),\n",
              " ('Product J', 330.0),\n",
              " ('Product F', 210.0),\n",
              " ('Product L', 195.0),\n",
              " ('Product K', 180.0),\n",
              " ('Product C', 160.0),\n",
              " ('Product I', 150.0),\n",
              " ('Product H', 135.0),\n",
              " ('Product B', 135.0),\n",
              " ('Product G', 120.0),\n",
              " ('Product E', 90.0),\n",
              " ('Product D', 75.0),\n",
              " ('Product A', 50.0)]"
            ],
            "text/html": [
              "<table>\n",
              "    <thead>\n",
              "        <tr>\n",
              "            <th>product_name</th>\n",
              "            <th>total_revenue</th>\n",
              "        </tr>\n",
              "    </thead>\n",
              "    <tbody>\n",
              "        <tr>\n",
              "            <td>Product M</td>\n",
              "            <td>420.0</td>\n",
              "        </tr>\n",
              "        <tr>\n",
              "            <td>Product J</td>\n",
              "            <td>330.0</td>\n",
              "        </tr>\n",
              "        <tr>\n",
              "            <td>Product F</td>\n",
              "            <td>210.0</td>\n",
              "        </tr>\n",
              "        <tr>\n",
              "            <td>Product L</td>\n",
              "            <td>195.0</td>\n",
              "        </tr>\n",
              "        <tr>\n",
              "            <td>Product K</td>\n",
              "            <td>180.0</td>\n",
              "        </tr>\n",
              "        <tr>\n",
              "            <td>Product C</td>\n",
              "            <td>160.0</td>\n",
              "        </tr>\n",
              "        <tr>\n",
              "            <td>Product I</td>\n",
              "            <td>150.0</td>\n",
              "        </tr>\n",
              "        <tr>\n",
              "            <td>Product H</td>\n",
              "            <td>135.0</td>\n",
              "        </tr>\n",
              "        <tr>\n",
              "            <td>Product B</td>\n",
              "            <td>135.0</td>\n",
              "        </tr>\n",
              "        <tr>\n",
              "            <td>Product G</td>\n",
              "            <td>120.0</td>\n",
              "        </tr>\n",
              "        <tr>\n",
              "            <td>Product E</td>\n",
              "            <td>90.0</td>\n",
              "        </tr>\n",
              "        <tr>\n",
              "            <td>Product D</td>\n",
              "            <td>75.0</td>\n",
              "        </tr>\n",
              "        <tr>\n",
              "            <td>Product A</td>\n",
              "            <td>50.0</td>\n",
              "        </tr>\n",
              "    </tbody>\n",
              "</table>"
            ]
          },
          "metadata": {},
          "execution_count": 23
        }
      ]
    },
    {
      "cell_type": "code",
      "source": [
        "%%sql\n",
        "--Day with the highest revenue\n",
        "SELECT  strftime('%d', order_date) AS day_of_month, p.price * SUM(oi.quantity) AS total_revenue\n",
        "FROM order_items oi\n",
        "JOIN orders o\n",
        "ON oi.order_id = o.order_id\n",
        "JOIN products p\n",
        "ON oi.product_id = p.product_id\n",
        "GROUP BY day_of_month\n",
        "ORDER BY total_revenue DESC;"
      ],
      "metadata": {
        "colab": {
          "base_uri": "https://localhost:8080/",
          "height": 417
        },
        "id": "pXRhD1zqWqDB",
        "outputId": "050ccb63-5aa5-48b1-dedb-2fedd4625168"
      },
      "execution_count": 40,
      "outputs": [
        {
          "output_type": "stream",
          "name": "stdout",
          "text": [
            " * sqlite:///ABC_DATA.db\n",
            "Done.\n"
          ]
        },
        {
          "output_type": "execute_result",
          "data": {
            "text/plain": [
              "[('16', 325.0),\n",
              " ('10', 275.0),\n",
              " ('11', 260.0),\n",
              " ('15', 220.0),\n",
              " ('13', 175.0),\n",
              " ('08', 140.0),\n",
              " ('14', 135.0),\n",
              " ('09', 135.0),\n",
              " ('12', 75.0),\n",
              " ('07', 75.0),\n",
              " ('04', 75.0),\n",
              " ('06', 60.0),\n",
              " ('02', 60.0),\n",
              " ('05', 30.0),\n",
              " ('03', 30.0),\n",
              " ('01', 30.0)]"
            ],
            "text/html": [
              "<table>\n",
              "    <thead>\n",
              "        <tr>\n",
              "            <th>day_of_month</th>\n",
              "            <th>total_revenue</th>\n",
              "        </tr>\n",
              "    </thead>\n",
              "    <tbody>\n",
              "        <tr>\n",
              "            <td>16</td>\n",
              "            <td>325.0</td>\n",
              "        </tr>\n",
              "        <tr>\n",
              "            <td>10</td>\n",
              "            <td>275.0</td>\n",
              "        </tr>\n",
              "        <tr>\n",
              "            <td>11</td>\n",
              "            <td>260.0</td>\n",
              "        </tr>\n",
              "        <tr>\n",
              "            <td>15</td>\n",
              "            <td>220.0</td>\n",
              "        </tr>\n",
              "        <tr>\n",
              "            <td>13</td>\n",
              "            <td>175.0</td>\n",
              "        </tr>\n",
              "        <tr>\n",
              "            <td>08</td>\n",
              "            <td>140.0</td>\n",
              "        </tr>\n",
              "        <tr>\n",
              "            <td>14</td>\n",
              "            <td>135.0</td>\n",
              "        </tr>\n",
              "        <tr>\n",
              "            <td>09</td>\n",
              "            <td>135.0</td>\n",
              "        </tr>\n",
              "        <tr>\n",
              "            <td>12</td>\n",
              "            <td>75.0</td>\n",
              "        </tr>\n",
              "        <tr>\n",
              "            <td>07</td>\n",
              "            <td>75.0</td>\n",
              "        </tr>\n",
              "        <tr>\n",
              "            <td>04</td>\n",
              "            <td>75.0</td>\n",
              "        </tr>\n",
              "        <tr>\n",
              "            <td>06</td>\n",
              "            <td>60.0</td>\n",
              "        </tr>\n",
              "        <tr>\n",
              "            <td>02</td>\n",
              "            <td>60.0</td>\n",
              "        </tr>\n",
              "        <tr>\n",
              "            <td>05</td>\n",
              "            <td>30.0</td>\n",
              "        </tr>\n",
              "        <tr>\n",
              "            <td>03</td>\n",
              "            <td>30.0</td>\n",
              "        </tr>\n",
              "        <tr>\n",
              "            <td>01</td>\n",
              "            <td>30.0</td>\n",
              "        </tr>\n",
              "    </tbody>\n",
              "</table>"
            ]
          },
          "metadata": {},
          "execution_count": 40
        }
      ]
    },
    {
      "cell_type": "markdown",
      "source": [
        "The 16th day had the highest revenue during the month"
      ],
      "metadata": {
        "id": "YSjElBKLpSmF"
      }
    },
    {
      "cell_type": "code",
      "source": [],
      "metadata": {
        "id": "UzAMragAl9JU"
      },
      "execution_count": null,
      "outputs": []
    }
  ]
}